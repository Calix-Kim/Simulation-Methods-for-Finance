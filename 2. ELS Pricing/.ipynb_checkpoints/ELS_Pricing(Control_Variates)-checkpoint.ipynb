{
 "cells": [
  {
   "cell_type": "code",
   "execution_count": 1,
   "metadata": {},
   "outputs": [],
   "source": [
    "import numpy as np\n",
    "def BB(w0,wt,t,m):\n",
    "    h = 2**m\n",
    "    T = np.linspace(0,t, h+1)\n",
    "    W = np.zeros(h+1)\n",
    "    z = np.random.randn(h+1)\n",
    "    W[0] = w0\n",
    "    W[h] = wt\n",
    "    j_max = 1\n",
    "    \n",
    "    for k in range(1, m+1):\n",
    "        i_min = h//2\n",
    "        i = i_min\n",
    "        l = 0\n",
    "        r = h\n",
    "        for j in range(1, j_max+1):\n",
    "            a = ((T[r]-T[i])*W[l] + (T[i]-T[l])*W[r]) / (T[r]-T[l])\n",
    "            b = np.sqrt( (T[i]-T[l])*(T[r]-T[i])/(T[r]-T[l]) )\n",
    "            W[i] = a + b*z[i]\n",
    "            # print(\"i={}, left={}, right={}\".format(i,l,r))\n",
    "            i+=h; l+=h; r+=h\n",
    "        j_max*=2\n",
    "        h = i_min\n",
    "    \n",
    "    return W"
   ]
  },
  {
   "cell_type": "code",
   "execution_count": 2,
   "metadata": {},
   "outputs": [
    {
     "name": "stdout",
     "output_type": "stream",
     "text": [
      "        t=0.5   t=1.0   t=1.5   t=2.0\n",
      "S1      0.2662  0.2869  0.2875  0.2779  \n",
      "S2      0.3610  0.3781  0.3710  0.3551  \n",
      "put1   -0.3163 -0.3968 -0.4274 -0.4247  \n",
      "put2   -0.4504 -0.5654 -0.6034 -0.6050  \n",
      "digital 0.4776  0.4972  0.5330  0.5760  \n"
     ]
    }
   ],
   "source": [
    "import numpy as np\n",
    "def control_variable(r,q1,q2,sigma1,sigma2,rho,M,m):\n",
    "\n",
    "    S1_start = 100\n",
    "    S2_start = 100\n",
    "    principal = 100    \n",
    "    \n",
    "    T = 2\n",
    "    check_term = 0.5\n",
    "    check_max = int(T / check_term)\n",
    "    \n",
    "    case=6\n",
    "    S1 = np.zeros(check_max+1)\n",
    "    S2 = np.zeros(check_max+1)\n",
    "    Put1 = np.zeros(check_max)\n",
    "    Put2 = np.zeros(check_max)\n",
    "    digital = np.zeros(check_max)\n",
    "    X = np.zeros([M, check_max*5])\n",
    "    Y = np.zeros(M)\n",
    "    prob = np.zeros(case)\n",
    "    \n",
    "    for i in range(M):\n",
    "        \n",
    "        S1[0] = S1_start\n",
    "        S2[0] = S2_start\n",
    "        \n",
    "        x1 = np.random.randn(check_max)\n",
    "        x2 = np.random.randn(check_max)\n",
    "        W1 = np.zeros(check_max+1)\n",
    "        W2 = np.zeros(check_max+1)\n",
    "\n",
    "        check_barrier = False\n",
    "        \n",
    "        for j in range(1, check_max+1):\n",
    "\n",
    "            # Random walk\n",
    "            W1[j] = W1[j-1] + np.sqrt(check_term) * x1[j-1]\n",
    "            W2[j] = W2[j-1] + np.sqrt(check_term) * x2[j-1]\n",
    "            \n",
    "            e1 =  W1[j] - W1[j-1]\n",
    "            e2 = rho*e1 + (W2[j] - W2[j-1])*np.sqrt(1-rho**2)\n",
    "    \n",
    "            # Get S1, S2 price at early redemption time\n",
    "            S1[j] = S1[j-1]*np.exp( (r - q1 - (sigma1**2)/2)*check_term + sigma1*e1)\n",
    "            S2[j] = S2[j-1]*np.exp( (r - q2 - (sigma2**2)/2)*check_term + sigma2*e2)\n",
    "            \n",
    "            # Get Put1, Put2 price at early redemption time\n",
    "            Put1[j-1] = max(S1_start * (0.85 -0.05*(j-1)) - S1[j] ,0)\n",
    "            Put2[j-1] = max(S2_start * (0.85 -0.05*(j-1)) - S2[j] ,0)\n",
    "            \n",
    "            # Get digital option price at early redemption time\n",
    "            if (S1[j] >= S1_start * (0.85 - ((j-1) * 0.05))) and (S2[j] >= S2_start * (0.85 - ((j-1) * 0.05))):\n",
    "                digital[j-1] = 1\n",
    "            else:\n",
    "                digital[j-1] = 0\n",
    "            \n",
    "            X[i][j-1] = S1[j]\n",
    "            X[i][j+3] = S2[j]\n",
    "            X[i][j+7] = Put1[j-1]\n",
    "            X[i][j+11] = Put2[j-1]\n",
    "            X[i][j+15] = digital[j-1]\n",
    "            \n",
    "            \n",
    "        for j in range(1, check_max+1):\n",
    "            \n",
    "            # Check Barrier\n",
    "            if (S1[j] < S1_start * 0.6) or (S2[j] < S2_start * 0.6):\n",
    "                check_barrier = True\n",
    "            \n",
    "            # Check early repayment\n",
    "            if (S1[j] >= S1_start * (0.85 - ((j-1) * 0.05))) and (S2[j] >= S2_start * (0.85 - ((j-1) * 0.05))):\n",
    "                Y[i] = principal * (1+0.0625*j) * np.exp(-r * j * check_term)\n",
    "                prob[j-1]+=1\n",
    "                break\n",
    "            \n",
    "            # Check Maturity repayment\n",
    "            if j == check_max:\n",
    "                if (check_barrier == True) and ( (S1[j] < S1_start * 0.7) or (S2[j] < S2_start * 0.7) ):\n",
    "                    Y[i] = principal * min(S1[j]/S1_start, S2[j]/S2_start) * np.exp(-r * j * check_term)\n",
    "                    prob[j+1]+=1\n",
    "                    break\n",
    "                    \n",
    "                else:\n",
    "                    S1_BB = np.zeros(2**m+1)\n",
    "                    S2_BB = np.zeros(2**m+1)\n",
    "                    S1_BB[0] = S1_start\n",
    "                    S2_BB[0] = S2_start\n",
    "                    \n",
    "                    # Brownian Bridge\n",
    "                    for k in range(1, check_max+1):      \n",
    "                        W1_BB = BB(W1[k-1], W1[k], 0.5, m)\n",
    "                        W2_BB = BB(W2[k-1], W2[k], 0.5, m)\n",
    "                        \n",
    "                        for l in range(1, 2**m+1):\n",
    "                            e1 = W1_BB[l] - W1_BB[l-1]\n",
    "                            e2 = rho*e1 + (W2_BB[l] - W2_BB[l-1]) * np.sqrt(1-rho**2)\n",
    "                        \n",
    "                            S1_BB[l] = S1_BB[l-1] * np.exp( (r - q1 - sigma1**2/2)*(check_term/2**m) + sigma1 * e1 )\n",
    "                            S2_BB[l] = S2_BB[l-1] * np.exp( (r - q2 - sigma2**2/2)*(check_term/2**m) + sigma2 * e2 )\n",
    "                        \n",
    "                        if any(S1_BB < S1_start * 0.6) or any(S2_BB < S2_start * 0.6):\n",
    "                            check_barrier = True\n",
    "                    \n",
    "                        if (check_barrier == True) and ( (S1[j] < S1_start * 0.7) or (S2[j] < S2_start * 0.7) ):\n",
    "                            Y[i] = principal * min(S1[j]/S1_start, S2[j]/S2_start) * np.exp(-r * j * check_term)\n",
    "                            prob[j+1]+=1\n",
    "                            break\n",
    "                        else:        \n",
    "                            S1_BB[0] = S1_BB[2**m]\n",
    "                            S2_BB[0] = S2_BB[2**m]\n",
    "                    \n",
    "                    if (check_barrier == False) and ( (S1[j] < S1_start * 0.7) or (S2[j] < S2_start * 0.7) ):\n",
    "                        Y[i] = principal * np.exp(-r * j * check_term)\n",
    "                        prob[j]+=1\n",
    "                        break\n",
    "        \n",
    "    return Y,X\n",
    "\n",
    "r=0.03\n",
    "q1=0.0\n",
    "q2=0.0\n",
    "sigma1=0.3\n",
    "sigma2=0.4\n",
    "rho=0.2\n",
    "M=100000\n",
    "m=3\n",
    "Y,X=control_variable(r,q1,q2,sigma1,sigma2,rho,M,m)\n",
    "corr=np.zeros(20)\n",
    "for i in range(20):\n",
    "    a=np.column_stack((Y,X[:,i]))\n",
    "    corr[i]=np.corrcoef(a,rowvar=False)[0,1]\n",
    "print('        t=0.5   t=1.0   t=1.5   t=2.0')\n",
    "print('S1     ',end='')\n",
    "for i in range(4):\n",
    "    print('{:{width}.4f}'.format(corr[i],width=7),end=' ')\n",
    "print(' ')\n",
    "print('S2     ',end='')\n",
    "for i in range(4,8):\n",
    "    print('{:{width}.4f}'.format(corr[i],width=7),end=' ')\n",
    "print(' ')\n",
    "print('put1   ',end='')\n",
    "for i in range(8,12):\n",
    "    print('{:{width}.4f}'.format(corr[i],width=7),end=' ')\n",
    "print(' ')\n",
    "print('put2   ',end='')\n",
    "for i in range(12,16):\n",
    "    print('{:{width}.4f}'.format(corr[i],width=7),end=' ')\n",
    "print(' ')\n",
    "print('digital',end='')\n",
    "for i in range(16,20):\n",
    "    print('{:{width}.4f}'.format(corr[i],width=7),end=' ')\n",
    "print(' ')\n"
   ]
  },
  {
   "cell_type": "code",
   "execution_count": 3,
   "metadata": {},
   "outputs": [
    {
     "data": {
      "image/png": "[encoded data removed]",
      "text/plain": [
       "<Figure size 432x288 with 1 Axes>"
      ]
     },
     "metadata": {
      "needs_background": "light"
     },
     "output_type": "display_data"
    },
    {
     "data": {
      "image/png": "[encoded data removed]",
      "text/plain": [
       "<Figure size 432x288 with 1 Axes>"
      ]
     },
     "metadata": {
      "needs_background": "light"
     },
     "output_type": "display_data"
    },
    {
     "data": {
      "image/png": "[encoded data removed]",
      "text/plain": [
       "<Figure size 432x288 with 1 Axes>"
      ]
     },
     "metadata": {
      "needs_background": "light"
     },
     "output_type": "display_data"
    }
   ],
   "source": [
    "import matplotlib.pyplot as plt\n",
    "fig=plt.figure()\n",
    "ax=fig.add_axes([0,0,1,1])\n",
    "ax.scatter(X[:,7], Y, color='r')\n",
    "ax.set_xlabel('S2(2y)')\n",
    "ax.set_ylabel('ELS')\n",
    "ax.set_title('underlying asset')\n",
    "plt.show()\n",
    "fig=plt.figure()\n",
    "ax=fig.add_axes([0,0,1,1])\n",
    "ax.scatter(X[:,15], Y, color='r')\n",
    "ax.set_xlabel('put2(2y)')\n",
    "ax.set_ylabel('ELS')\n",
    "ax.set_title('put option')\n",
    "plt.show()\n",
    "fig=plt.figure()\n",
    "ax=fig.add_axes([0,0,1,1])\n",
    "ax.scatter(X[:,19], Y, color='r')\n",
    "ax.set_xlabel('digital(2y)')\n",
    "ax.set_ylabel('ELS')\n",
    "ax.set_title('Digital option')\n",
    "plt.show()"
   ]
  },
  {
   "cell_type": "code",
   "execution_count": 4,
   "metadata": {},
   "outputs": [
    {
     "name": "stdout",
     "output_type": "stream",
     "text": [
      "value = 93.28, value2 = 93.79, err = 0.27, err2 = 0.21\n",
      "prob[1] = 54.58%\n",
      "prob[2] = 12.14%\n",
      "prob[3] =  7.22%\n",
      "prob[4] =  4.16%\n",
      "prob[5] =  0.34%\n",
      "prob[6] = 21.56%\n",
      "Total sum of prob = 100%\n",
      "Total computing time = 0.576038 seconds\n"
     ]
    }
   ],
   "source": [
    "import numpy as np\n",
    "from scipy.stats import norm\n",
    "def BS_put(S,K,r,q,T,sigma):\n",
    "    d1=(np.log(S/K)+(r-q+sigma**2/2)*T)/(sigma*np.sqrt(T))\n",
    "    d2=d1-sigma*np.sqrt(T)\n",
    "    return K*np.exp(-r*T)*norm.cdf(-d2)-S*np.exp(-q*T)*norm.cdf(-d1)\n",
    "def ELS_control(r,q1,q2,sigma1,sigma2,rho,M,m):\n",
    "    \n",
    "    Y,X=control_variable(r,q1,q2,sigma1,sigma2,rho,M,m)\n",
    "    \n",
    "    k = np.where(Y >= 100 * 1.25 * np.exp(-r*2), 4, \n",
    "        np.where(Y >= 100 * 1.1875 * np.exp(-r*1.5), 3,\n",
    "                np.where(Y >= 100 * 1.125 * np.exp(-r*1.0), 2,\n",
    "                        np.where(Y >= 100 * 1.0625 * np.exp(-r*0.5), 1,\n",
    "                                np.where(Y >= 100 * np.exp(-r*2), 5, 6)))))\n",
    "    \n",
    "    key, counts = np.unique(k, return_counts=True)\n",
    "    prob = np.array(counts)\n",
    "    \n",
    "    value = np.mean(Y)\n",
    "    err = np.std(Y) / np.sqrt(M)\n",
    "    prob = prob / M\n",
    "    \n",
    "    mx = np.mean(X[:,15])\n",
    "    EX = BS_put(100,70,r,q2,2,sigma2)\n",
    "    b = np.sum((X[:,15] - mx) * (Y - value)) / np.sum((X[:,15] - mx)**2)\n",
    "    \n",
    "    corr = np.corrcoef(np.column_stack((Y,X[:,15])), rowvar=False)[0,1]\n",
    "    \n",
    "    value2 = value - b * (mx - EX)\n",
    "    err2 = err * np.sqrt(1-corr**2)\n",
    "\n",
    "    return value,value2,err,err2,prob,b,mx,EX\n",
    "from datetime import datetime\n",
    "r=0.03\n",
    "q1=0.0\n",
    "q2=0.0\n",
    "sigma1=0.3\n",
    "sigma2=0.4\n",
    "rho=0.2\n",
    "M=10000\n",
    "m=3\n",
    "t1=datetime.now()\n",
    "value,value2,err,err2,prob,b,mx,EX=ELS_control(r,q1,q2,sigma1,sigma2,rho,M,m)\n",
    "t2=datetime.now()\n",
    "print('value = {:.2f}, value2 = {:.2f}, err = {:.2f}, err2 = {:.2f}'.format(value,value2,err,err2))\n",
    "for i in range(6):\n",
    "    print('prob[{:d}] = {:{width}.2%}'.format(i+1,prob[i],width=6))\n",
    "print('Total sum of prob = {:.0%}'.format(sum(prob)))\n",
    "print('Total computing time = {:f} seconds'.format((t2-t1).total_seconds()))"
   ]
  },
  {
   "cell_type": "code",
   "execution_count": 5,
   "metadata": {},
   "outputs": [
    {
     "data": {
      "text/plain": [
       "(-1.3665033649691698, 6.40305327286263, 6.025617603963605)"
      ]
     },
     "execution_count": 5,
     "metadata": {},
     "output_type": "execute_result"
    }
   ],
   "source": [
    "b,mx,EX"
   ]
  }
 ],
 "metadata": {
  "kernelspec": {
   "display_name": "Python 3",
   "language": "python",
   "name": "python3"
  },
  "language_info": {
   "codemirror_mode": {
    "name": "ipython",
    "version": 3
   },
   "file_extension": ".py",
   "mimetype": "text/x-python",
   "name": "python",
   "nbconvert_exporter": "python",
   "pygments_lexer": "ipython3",
   "version": "3.8.8"
  }
 },
 "nbformat": 4,
 "nbformat_minor": 4
}
