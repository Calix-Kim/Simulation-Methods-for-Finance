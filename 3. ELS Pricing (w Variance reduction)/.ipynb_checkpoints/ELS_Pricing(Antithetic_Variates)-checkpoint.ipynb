{
 "cells": [
  {
   "cell_type": "code",
   "execution_count": 1,
   "metadata": {},
   "outputs": [],
   "source": [
    "import numpy as np\n",
    "def BB(w0,wt,t,m,z_saved):\n",
    "    h = 2**m\n",
    "    T = np.linspace(0,t, h+1)\n",
    "    W = np.zeros(h+1)\n",
    "    z = z_saved\n",
    "    W[0] = w0\n",
    "    W[h] = wt\n",
    "    j_max = 1\n",
    "    \n",
    "    for k in range(1, m+1):\n",
    "        i_min = h//2\n",
    "        i = i_min\n",
    "        l = 0\n",
    "        r = h\n",
    "        for j in range(1, j_max+1):\n",
    "            a = ((T[r]-T[i])*W[l] + (T[i]-T[l])*W[r]) / (T[r]-T[l])\n",
    "            b = np.sqrt( (T[i]-T[l])*(T[r]-T[i])/(T[r]-T[l]) )\n",
    "            W[i] = a + b*z[i]\n",
    "            i+=h; l+=h; r+=h\n",
    "        j_max*=2\n",
    "        h = i_min\n",
    "    \n",
    "    return W"
   ]
  },
  {
   "cell_type": "code",
   "execution_count": 2,
   "metadata": {},
   "outputs": [
    {
     "name": "stdout",
     "output_type": "stream",
     "text": [
      "value = 93.27, err = 0.24\n",
      "prob[1] = 54.60%\n",
      "prob[2] = 12.70%\n",
      "prob[3] =  6.46%\n",
      "prob[4] =  4.10%\n",
      "prob[5] =  0.40%\n",
      "prob[6] = 21.74%\n",
      "Total sum of prob = 100%\n",
      "Total computing time = 0.333145 seconds\n"
     ]
    }
   ],
   "source": [
    "import numpy as np\n",
    "def ELS_antithetic(r,q1,q2,sigma1,sigma2,rho,M,m):\n",
    "    \n",
    "    S1_start = 100\n",
    "    S2_start = 100\n",
    "    principal = 100    \n",
    "    \n",
    "    T = 2\n",
    "    check_term = 0.5\n",
    "    check_max = int(T / check_term)\n",
    "    \n",
    "    case=6\n",
    "    S1 = np.zeros(check_max+1)\n",
    "    S2 = np.zeros(check_max+1)\n",
    "    payment = np.zeros((3,M)) # To extend the dimension for Y_tilda\n",
    "\n",
    "    prob = np.zeros((3,case))\n",
    "    \n",
    "    for i in range(M):\n",
    "        \n",
    "        x1 = np.random.randn(check_max)\n",
    "        x2 = np.random.randn(check_max)\n",
    "        z1 = np.zeros(2**m*check_max+1)\n",
    "        z2 = np.zeros(2**m*check_max+1)\n",
    "        \n",
    "        for random_type in [1,-1]:\n",
    "            S1[0] = S1_start\n",
    "            S2[0] = S2_start\n",
    "            \n",
    "            W1 = np.zeros(check_max+1)\n",
    "            W2 = np.zeros(check_max+1)\n",
    "\n",
    "            check_barrier = False\n",
    "            \n",
    "            for j in range(1, check_max+1):\n",
    "\n",
    "                # Random walk\n",
    "                W1[j] = W1[j-1] + np.sqrt(check_term) * random_type * x1[j-1]\n",
    "                W2[j] = W2[j-1] + np.sqrt(check_term) * random_type * x2[j-1]\n",
    "\n",
    "                e1 =  W1[j] - W1[j-1]\n",
    "                e2 = rho*e1 + (W2[j] - W2[j-1])*np.sqrt(1-rho**2)\n",
    "\n",
    "                S1[j] = S1[j-1]*np.exp( (r - q1 - (sigma1**2)/2)*check_term + sigma1*e1)\n",
    "                S2[j] = S2[j-1]*np.exp( (r - q2 - (sigma2**2)/2)*check_term + sigma2*e2)\n",
    "\n",
    "                # Check Barrier\n",
    "                if (S1[j] < S1_start * 0.6) or (S2[j] < S2_start * 0.6):\n",
    "                    check_barrier = True\n",
    "\n",
    "                # Check early repayment\n",
    "                if (S1[j] >= S1_start * (0.85 - ((j-1) * 0.05))) and (S2[j] >= S2_start * (0.85 - ((j-1) * 0.05))):\n",
    "                    payment[random_type+1][i] = principal * (1+0.0625*j) * np.exp(-r * j * check_term)\n",
    "                    prob[random_type+1][j-1]+=1\n",
    "                    break\n",
    "\n",
    "                # Check Maturity repayment\n",
    "                if j == check_max:\n",
    "                    if (check_barrier == True) and ( (S1[j] < S1_start * 0.7) or (S2[j] < S2_start * 0.7) ):\n",
    "                        payment[random_type+1][i] = principal * min(S1[j]/S1_start, S2[j]/S2_start) * np.exp(-r * j * check_term)\n",
    "                        prob[random_type+1][j+1]+=1\n",
    "                        break\n",
    "\n",
    "                    else:\n",
    "                        S1_BB = np.zeros(2**m+1)\n",
    "                        S2_BB = np.zeros(2**m+1)\n",
    "                        S1_BB[0] = S1_start\n",
    "                        S2_BB[0] = S2_start\n",
    "                        \n",
    "                        if random_type == 1:\n",
    "                            z1 = np.random.randn(2**m*check_max+1)\n",
    "                            z2 = np.random.randn(2**m*check_max+1)\n",
    "                        else:\n",
    "                            z1 = -z1\n",
    "                            z2 = -z2\n",
    "                            \n",
    "                        # Brownian Bridge\n",
    "                        for k in range(1, check_max+1):\n",
    "                            \n",
    "                            W1_BB = BB(W1[k-1], W1[k], 0.5, m, z1[(2**m)*(k-1) : (2**m)*k+1])\n",
    "                            W2_BB = BB(W2[k-1], W2[k], 0.5, m, z2[(2**m)*(k-1) : (2**m)*k+1])\n",
    "\n",
    "                            for l in range(1, 2**m+1):\n",
    "                                e1 = W1_BB[l] - W1_BB[l-1]\n",
    "                                e2 = rho*e1 + (W2_BB[l] - W2_BB[l-1]) * np.sqrt(1-rho**2)\n",
    "\n",
    "                                S1_BB[l] = S1_BB[l-1] * np.exp( (r - q1 - sigma1**2/2)*(check_term/2**m) + sigma1 * e1 )\n",
    "                                S2_BB[l] = S2_BB[l-1] * np.exp( (r - q2 - sigma2**2/2)*(check_term/2**m) + sigma2 * e2 )\n",
    "\n",
    "                                if(S1_BB[l] < S1_start * 0.6) or (S2_BB[l] < S2_start * 0.6):\n",
    "                                    check_barrier = True\n",
    "                                    payment[random_type+1][i] = principal * min(S1[j]/S1_start, S2[j]/S2_start) * np.exp(-r * j * check_term)\n",
    "                                    prob[random_type+1][j+1]+=1\n",
    "                                    break\n",
    "\n",
    "                            if check_barrier:\n",
    "                                break          \n",
    "                            else:        \n",
    "                                S1_BB[0] = S1_BB[2**m]\n",
    "                                S2_BB[0] = S2_BB[2**m]\n",
    "\n",
    "                        if check_barrier == False:\n",
    "                            payment[random_type+1][i] = principal * np.exp(-r * j * check_term)\n",
    "                            prob[random_type+1][j]+=1\n",
    "                            break\n",
    "            \n",
    "    Y1 = payment[2,:]\n",
    "    Y2 = payment[0,:]\n",
    "    value = np.mean((Y1+Y2)/2)\n",
    "    err = np.std((Y1+Y2)/2) / np.sqrt(M)\n",
    "    prob = prob[2,:] / M\n",
    "    \n",
    "    return value,err,prob,Y1,Y2\n",
    "from datetime import datetime\n",
    "r=0.03\n",
    "q1=0.0\n",
    "q2=0.0\n",
    "sigma1=0.3\n",
    "sigma2=0.4\n",
    "rho=0.2\n",
    "M=5000\n",
    "m=3\n",
    "t1=datetime.now()\n",
    "value,err,prob,Y1,Y2=ELS_antithetic(r,q1,q2,sigma1,sigma2,rho,M,m)\n",
    "t2=datetime.now()\n",
    "print('value = {:.2f}, err = {:.2f}'.format(value,err))\n",
    "for i in range(6):\n",
    "    print('prob[{:d}] = {:{width}.2%}'.format(i+1,prob[i],width=6))\n",
    "print('Total sum of prob = {:.0%}'.format(sum(prob)))\n",
    "print('Total computing time = {:f} seconds'.format((t2-t1).total_seconds()))"
   ]
  },
  {
   "cell_type": "code",
   "execution_count": 3,
   "metadata": {},
   "outputs": [
    {
     "data": {
      "text/plain": [
       "array([[ 721.4366227 , -115.52728792],\n",
       "       [-115.52728792,  704.20039266]])"
      ]
     },
     "execution_count": 3,
     "metadata": {},
     "output_type": "execute_result"
    }
   ],
   "source": [
    "np.cov(Y1,Y2)"
   ]
  },
  {
   "cell_type": "code",
   "execution_count": 4,
   "metadata": {},
   "outputs": [
    {
     "data": {
      "text/plain": [
       "array([[ 1.        , -0.16208296],\n",
       "       [-0.16208296,  1.        ]])"
      ]
     },
     "execution_count": 4,
     "metadata": {},
     "output_type": "execute_result"
    }
   ],
   "source": [
    "np.corrcoef(Y1,Y2)"
   ]
  },
  {
   "cell_type": "code",
   "execution_count": 5,
   "metadata": {},
   "outputs": [
    {
     "data": {
      "text/plain": [
       "93.02779847301213"
      ]
     },
     "execution_count": 5,
     "metadata": {},
     "output_type": "execute_result"
    }
   ],
   "source": [
    "np.mean(Y1)"
   ]
  },
  {
   "cell_type": "code",
   "execution_count": 6,
   "metadata": {},
   "outputs": [
    {
     "data": {
      "text/plain": [
       "93.50879942664574"
      ]
     },
     "execution_count": 6,
     "metadata": {},
     "output_type": "execute_result"
    }
   ],
   "source": [
    "np.mean(Y2)"
   ]
  }
 ],
 "metadata": {
  "kernelspec": {
   "display_name": "Python 3",
   "language": "python",
   "name": "python3"
  },
  "language_info": {
   "codemirror_mode": {
    "name": "ipython",
    "version": 3
   },
   "file_extension": ".py",
   "mimetype": "text/x-python",
   "name": "python",
   "nbconvert_exporter": "python",
   "pygments_lexer": "ipython3",
   "version": "3.8.8"
  }
 },
 "nbformat": 4,
 "nbformat_minor": 4
}
