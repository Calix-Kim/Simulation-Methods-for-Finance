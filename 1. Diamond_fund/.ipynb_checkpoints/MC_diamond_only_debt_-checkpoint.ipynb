{
 "cells": [
  {
   "cell_type": "code",
   "execution_count": 1,
   "metadata": {},
   "outputs": [
    {
     "name": "stdout",
     "output_type": "stream",
     "text": [
      "value = 7306.49, err = 22.98\n"
     ]
    }
   ],
   "source": [
    "import numpy as np\n",
    "Y0=122\n",
    "B0=25.884\n",
    "rD=0.03\n",
    "rY=0.01\n",
    "rB=0.13\n",
    "sigmaY=0.1\n",
    "sigmaB=0.1\n",
    "rho=0.2\n",
    "T=1\n",
    "M=10000\n",
    "Y=np.zeros(M)\n",
    "for i in range(M):\n",
    "    x1 = np.random.randn()\n",
    "    x2 = np.random.randn()\n",
    "    \n",
    "    e1 =  x1\n",
    "    e2 = rho*x1 + x2*np.sqrt(1-rho**2)\n",
    "    \n",
    "    Y_t_inv = (1/Y0)*np.exp( (rD-rY-(sigmaY**2)/2)*T + sigmaY*e1*np.sqrt(T))\n",
    "    B_t_inv = (1/B0)*np.exp( (rD-rB-(sigmaB**2)/2)*T + sigmaB*e2*np.sqrt(T))\n",
    "    \n",
    "    alpha = max(0, 1 - Y0*Y_t_inv) + min(1, 5 * (B0*B_t_inv-1) )\n",
    "    payment = 5300 * (1 - rD - alpha)\n",
    "    Y[i] = payment * np.exp(-rD*T)\n",
    "    \n",
    "value=np.mean(Y)\n",
    "err=np.std(Y)/np.sqrt(M)\n",
    "print('value = {:.2f}, err = {:.2f}'.format(value,err))    "
   ]
  },
  {
   "cell_type": "code",
   "execution_count": 2,
   "metadata": {},
   "outputs": [
    {
     "name": "stdout",
     "output_type": "stream",
     "text": [
      "sigmaB    0.01    0.05    0.10    0.20    0.30    0.50  \n",
      "sigmaY\n",
      "  0.01    7432    7439    7413    7660    8202    9803  \n",
      "  0.05    7375    7366    7408    7582    8150    9817  \n",
      "  0.10    7276    7274    7302    7459    8020    9531  \n",
      "  0.20    7065    7065    7109    7205    8022    9368  \n",
      "  0.30    6873    6878    6855    7038    7569    9215  \n",
      "  0.50    6463    6466    6465    6611    7150    8789  \n"
     ]
    }
   ],
   "source": [
    "import numpy as np\n",
    "def diamond(sigmaY,sigmaB):\n",
    "    Y0=122\n",
    "    B0=25.884\n",
    "    rD=0.03\n",
    "    rY=0.01\n",
    "    rB=0.13\n",
    "    rho=0.2\n",
    "    T=1\n",
    "    M=10000\n",
    "    Y=np.zeros(M)\n",
    "    for i in range(M):\n",
    "        x1 = np.random.randn()\n",
    "        x2 = np.random.randn()\n",
    "\n",
    "        e1 =  x1\n",
    "        e2 = rho*x1 + x2*np.sqrt(1-rho**2)\n",
    "\n",
    "        Y_t_inv = (1/Y0)*np.exp( (rD-rY-(sigmaY**2)/2)*T + sigmaY*e1*np.sqrt(T))\n",
    "        B_t_inv = (1/B0)*np.exp( (rD-rB-(sigmaB**2)/2)*T + sigmaB*e2*np.sqrt(T))\n",
    "\n",
    "        alpha = max(0, 1 - Y0*Y_t_inv) + min(1, 5 * (B0*B_t_inv-1) )\n",
    "        payment = 5300 * (1 - rD - alpha)\n",
    "        Y[i] = payment * np.exp(-rD*T)\n",
    "\n",
    "    value=np.mean(Y)\n",
    "    err=np.std(Y)/np.sqrt(M)\n",
    "    return value,err\n",
    "    \n",
    "sigmaY=[0.01,0.05,0.1,0.2,0.3,0.5]\n",
    "sigmaB=[0.01,0.05,0.1,0.2,0.3,0.5]\n",
    "n=len(sigmaY)\n",
    "value=np.zeros((n,n))\n",
    "print('sigmaB ',end=' ')\n",
    "for i in range(n):\n",
    "    print('{:{width}.2f} '.format(sigmaB[i],width=6),end=' ')\n",
    "print()\n",
    "print('sigmaY')\n",
    "for i in range(n):\n",
    "    print('{:{width}.2f} '.format(sigmaY[i],width=6),end=' ')\n",
    "    for j in range(n):\n",
    "        value[i,j],err=diamond(sigmaY[i],sigmaB[j])\n",
    "        print('{:{width}.0f} '.format(value[i,j],width=6),end=' ')\n",
    "    print()"
   ]
  }
 ],
 "metadata": {
  "kernelspec": {
   "display_name": "Python 3",
   "language": "python",
   "name": "python3"
  },
  "language_info": {
   "codemirror_mode": {
    "name": "ipython",
    "version": 3
   },
   "file_extension": ".py",
   "mimetype": "text/x-python",
   "name": "python",
   "nbconvert_exporter": "python",
   "pygments_lexer": "ipython3",
   "version": "3.8.8"
  }
 },
 "nbformat": 4,
 "nbformat_minor": 4
}
